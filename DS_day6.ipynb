{
 "cells": [
  {
   "cell_type": "code",
   "execution_count": 1,
   "id": "b0c00552",
   "metadata": {},
   "outputs": [
    {
     "name": "stderr",
     "output_type": "stream",
     "text": [
      "C:\\Users\\SKUP\\Anaconda3\\lib\\site-packages\\scipy\\__init__.py:146: UserWarning: A NumPy version >=1.16.5 and <1.23.0 is required for this version of SciPy (detected version 1.23.5\n",
      "  warnings.warn(f\"A NumPy version >={np_minversion} and <{np_maxversion}\"\n"
     ]
    }
   ],
   "source": [
    "import numpy as np\n",
    "from scipy import special\n",
    "import pandas as pd\n",
    "import matplotlib.pyplot as plt\n",
    "import seaborn as sns"
   ]
  },
  {
   "cell_type": "code",
   "execution_count": 5,
   "id": "a405117b",
   "metadata": {},
   "outputs": [],
   "source": [
    "np.random.seed(0)"
   ]
  },
  {
   "cell_type": "code",
   "execution_count": 6,
   "id": "194c6336",
   "metadata": {},
   "outputs": [
    {
     "data": {
      "text/plain": [
       "array([0.        , 1.57079633, 3.14159265])"
      ]
     },
     "execution_count": 6,
     "metadata": {},
     "output_type": "execute_result"
    }
   ],
   "source": [
    "theta = np.linspace(0,np.pi, 3)\n",
    "theta"
   ]
  },
  {
   "cell_type": "code",
   "execution_count": 7,
   "id": "6edb4a64",
   "metadata": {},
   "outputs": [
    {
     "name": "stdout",
     "output_type": "stream",
     "text": [
      "[0.0000000e+00 1.0000000e+00 1.2246468e-16]\n"
     ]
    }
   ],
   "source": [
    "print(np.sin(theta))"
   ]
  },
  {
   "cell_type": "code",
   "execution_count": 9,
   "id": "01be06cd",
   "metadata": {},
   "outputs": [
    {
     "name": "stdout",
     "output_type": "stream",
     "text": [
      "[-1.57079633  0.          1.57079633]\n"
     ]
    }
   ],
   "source": [
    "print(np.arcsin([-1,0,1]))"
   ]
  },
  {
   "cell_type": "code",
   "execution_count": 10,
   "id": "478c6f65",
   "metadata": {},
   "outputs": [],
   "source": [
    "x = np.array([1,2,3])"
   ]
  },
  {
   "cell_type": "code",
   "execution_count": 11,
   "id": "d59634b8",
   "metadata": {},
   "outputs": [
    {
     "name": "stdout",
     "output_type": "stream",
     "text": [
      "[ 2.71828183  7.3890561  20.08553692]\n"
     ]
    }
   ],
   "source": [
    "print(np.exp(x))"
   ]
  },
  {
   "cell_type": "code",
   "execution_count": 13,
   "id": "9a464eb7",
   "metadata": {},
   "outputs": [
    {
     "name": "stdout",
     "output_type": "stream",
     "text": [
      "[ 3  9 27]\n"
     ]
    }
   ],
   "source": [
    "print(np.power(3,x))"
   ]
  },
  {
   "cell_type": "code",
   "execution_count": 15,
   "id": "e2b9a057",
   "metadata": {},
   "outputs": [],
   "source": [
    "x1 = [5,10,15]"
   ]
  },
  {
   "cell_type": "code",
   "execution_count": 19,
   "id": "a23e782c",
   "metadata": {},
   "outputs": [
    {
     "name": "stdout",
     "output_type": "stream",
     "text": [
      "[2.40000000e+01 3.62880000e+05 8.71782912e+10]\n",
      "[ 3.17805383 12.80182748 25.19122118]\n",
      "[0.03333333 0.00909091 0.00416667]\n"
     ]
    }
   ],
   "source": [
    "print(special.gamma(x1))\n",
    "print(special.gammaln(x1))\n",
    "print(special.beta(2,x1))"
   ]
  },
  {
   "cell_type": "code",
   "execution_count": 20,
   "id": "f8a6ac19",
   "metadata": {},
   "outputs": [],
   "source": [
    "x2 = np.array([0, 0.3, 0.7, 1.0])"
   ]
  },
  {
   "cell_type": "code",
   "execution_count": 22,
   "id": "f675bb80",
   "metadata": {},
   "outputs": [
    {
     "name": "stdout",
     "output_type": "stream",
     "text": [
      "[0.         0.32862676 0.67780119 0.84270079]\n",
      "[1.         0.67137324 0.32219881 0.15729921]\n",
      "[        inf  0.73286908  0.27246271 -0.        ]\n"
     ]
    }
   ],
   "source": [
    "print(special.erf(x2))\n",
    "print(special.erfc(x2))\n",
    "print(special.erfcinv(x2))"
   ]
  },
  {
   "cell_type": "code",
   "execution_count": 23,
   "id": "dcce658c",
   "metadata": {},
   "outputs": [
    {
     "data": {
      "text/plain": [
       "array([0., 2., 4., 6., 8.])"
      ]
     },
     "execution_count": 23,
     "metadata": {},
     "output_type": "execute_result"
    }
   ],
   "source": [
    "x = np.arange(5)\n",
    "y = np.empty(5)\n",
    "np.multiply(2,x,out=y)"
   ]
  },
  {
   "cell_type": "code",
   "execution_count": 28,
   "id": "03b3fe0a",
   "metadata": {},
   "outputs": [
    {
     "data": {
      "text/plain": [
       "array([ 1.,  0.,  2.,  0.,  4.,  0.,  8.,  0., 16.,  0.])"
      ]
     },
     "execution_count": 28,
     "metadata": {},
     "output_type": "execute_result"
    }
   ],
   "source": [
    "x1 = np.arange(5)\n",
    "y1 = np.zeros(10)\n",
    "np.power(2, x1,out=y1[::2])\n",
    "y1"
   ]
  },
  {
   "cell_type": "code",
   "execution_count": 29,
   "id": "c815bf53",
   "metadata": {},
   "outputs": [
    {
     "data": {
      "text/plain": [
       "15"
      ]
     },
     "execution_count": 29,
     "metadata": {},
     "output_type": "execute_result"
    }
   ],
   "source": [
    "x2 = np.array([1,2,3,4,5])\n",
    "np.add.reduce(x2)"
   ]
  },
  {
   "cell_type": "code",
   "execution_count": 30,
   "id": "fdbc0866",
   "metadata": {},
   "outputs": [
    {
     "data": {
      "text/plain": [
       "120"
      ]
     },
     "execution_count": 30,
     "metadata": {},
     "output_type": "execute_result"
    }
   ],
   "source": [
    "np.multiply.reduce(x2)"
   ]
  },
  {
   "cell_type": "code",
   "execution_count": 31,
   "id": "aac3c75e",
   "metadata": {},
   "outputs": [
    {
     "data": {
      "text/plain": [
       "array([ 1,  3,  6, 10, 15])"
      ]
     },
     "execution_count": 31,
     "metadata": {},
     "output_type": "execute_result"
    }
   ],
   "source": [
    "np.add.accumulate(x2)"
   ]
  },
  {
   "cell_type": "code",
   "execution_count": 32,
   "id": "4650b12f",
   "metadata": {},
   "outputs": [
    {
     "data": {
      "text/plain": [
       "array([  1,   2,   6,  24, 120])"
      ]
     },
     "execution_count": 32,
     "metadata": {},
     "output_type": "execute_result"
    }
   ],
   "source": [
    "np.multiply.accumulate(x2)"
   ]
  },
  {
   "cell_type": "code",
   "execution_count": 33,
   "id": "4060d56e",
   "metadata": {},
   "outputs": [],
   "source": [
    "x3 = np.arange(1,6)"
   ]
  },
  {
   "cell_type": "code",
   "execution_count": 35,
   "id": "0c91e328",
   "metadata": {},
   "outputs": [
    {
     "data": {
      "text/plain": [
       "array([[ 0,  0,  0,  0,  0],\n",
       "       [ 0,  1,  2,  3,  4],\n",
       "       [ 0,  2,  4,  6,  8],\n",
       "       [ 0,  3,  6,  9, 12],\n",
       "       [ 0,  4,  8, 12, 16]])"
      ]
     },
     "execution_count": 35,
     "metadata": {},
     "output_type": "execute_result"
    }
   ],
   "source": [
    "np.multiply.outer(x3,x3)"
   ]
  },
  {
   "cell_type": "code",
   "execution_count": 37,
   "id": "b10c9c89",
   "metadata": {},
   "outputs": [],
   "source": [
    "L = np.random.random(100)"
   ]
  },
  {
   "cell_type": "code",
   "execution_count": 38,
   "id": "bd2fcec6",
   "metadata": {},
   "outputs": [
    {
     "data": {
      "text/plain": [
       "52.80817562977628"
      ]
     },
     "execution_count": 38,
     "metadata": {},
     "output_type": "execute_result"
    }
   ],
   "source": [
    "sum(L)"
   ]
  },
  {
   "cell_type": "code",
   "execution_count": 39,
   "id": "ee544762",
   "metadata": {},
   "outputs": [
    {
     "data": {
      "text/plain": [
       "52.80817562977626"
      ]
     },
     "execution_count": 39,
     "metadata": {},
     "output_type": "execute_result"
    }
   ],
   "source": [
    "np.sum(L)"
   ]
  },
  {
   "cell_type": "code",
   "execution_count": 40,
   "id": "b4d19e9d",
   "metadata": {},
   "outputs": [],
   "source": [
    "L1 = np.random.random(100000)"
   ]
  },
  {
   "cell_type": "code",
   "execution_count": 41,
   "id": "2d136d7f",
   "metadata": {},
   "outputs": [
    {
     "name": "stdout",
     "output_type": "stream",
     "text": [
      "10.2 ms ± 578 µs per loop (mean ± std. dev. of 7 runs, 100 loops each)\n"
     ]
    }
   ],
   "source": [
    "%timeit sum(L1)"
   ]
  },
  {
   "cell_type": "code",
   "execution_count": 42,
   "id": "0acaa03f",
   "metadata": {},
   "outputs": [
    {
     "name": "stdout",
     "output_type": "stream",
     "text": [
      "52.5 µs ± 4.9 µs per loop (mean ± std. dev. of 7 runs, 10000 loops each)\n"
     ]
    }
   ],
   "source": [
    "%timeit np.sum(L1)"
   ]
  },
  {
   "cell_type": "code",
   "execution_count": null,
   "id": "7b252eaf",
   "metadata": {},
   "outputs": [],
   "source": [
    "np.sum()"
   ]
  },
  {
   "cell_type": "code",
   "execution_count": null,
   "id": "66f7e0bd",
   "metadata": {},
   "outputs": [],
   "source": [
    "sum()"
   ]
  },
  {
   "cell_type": "code",
   "execution_count": 43,
   "id": "139da24d",
   "metadata": {},
   "outputs": [
    {
     "data": {
      "text/plain": [
       "(3.3105544573475143e-06, 0.9999779517807228)"
      ]
     },
     "execution_count": 43,
     "metadata": {},
     "output_type": "execute_result"
    }
   ],
   "source": [
    "min(L1),max(L1)"
   ]
  },
  {
   "cell_type": "code",
   "execution_count": 45,
   "id": "b4c59829",
   "metadata": {},
   "outputs": [
    {
     "data": {
      "text/plain": [
       "(3.3105544573475143e-06, 0.9999779517807228)"
      ]
     },
     "execution_count": 45,
     "metadata": {},
     "output_type": "execute_result"
    }
   ],
   "source": [
    "np.min(L1),np.max(L1)"
   ]
  },
  {
   "cell_type": "code",
   "execution_count": 47,
   "id": "9f05aaa7",
   "metadata": {},
   "outputs": [
    {
     "data": {
      "text/plain": [
       "array([[0.56552864, 0.77853112, 0.59608528, 0.95302345],\n",
       "       [0.99197235, 0.60159575, 0.06423611, 0.37453296],\n",
       "       [0.2502483 , 0.25882029, 0.45222678, 0.67875711]])"
      ]
     },
     "execution_count": 47,
     "metadata": {},
     "output_type": "execute_result"
    }
   ],
   "source": [
    "M = np.random.random((3,4))\n",
    "M"
   ]
  },
  {
   "cell_type": "code",
   "execution_count": 49,
   "id": "b993101e",
   "metadata": {},
   "outputs": [
    {
     "data": {
      "text/plain": [
       "(array([0.56552864, 0.06423611, 0.2502483 ]),\n",
       " array([0.2502483 , 0.25882029, 0.06423611, 0.37453296]))"
      ]
     },
     "execution_count": 49,
     "metadata": {},
     "output_type": "execute_result"
    }
   ],
   "source": [
    "M.min(axis=1), M.min(axis=0)"
   ]
  },
  {
   "cell_type": "code",
   "execution_count": 53,
   "id": "4e0d7aee",
   "metadata": {},
   "outputs": [
    {
     "data": {
      "text/plain": [
       "(array([0.56552864, 0.06423611, 0.2502483 ]),\n",
       " array([0.2502483 , 0.25882029, 0.06423611, 0.37453296]))"
      ]
     },
     "execution_count": 53,
     "metadata": {},
     "output_type": "execute_result"
    }
   ],
   "source": [
    "np.min(M,axis=1), np.min(M,axis=0)"
   ]
  },
  {
   "cell_type": "code",
   "execution_count": 55,
   "id": "b78c042e",
   "metadata": {},
   "outputs": [],
   "source": [
    "df = pd.read_csv(\"notebooks_v1/data/president_heights.csv\")"
   ]
  },
  {
   "cell_type": "code",
   "execution_count": 56,
   "id": "58c6c6cf",
   "metadata": {},
   "outputs": [
    {
     "data": {
      "text/html": [
       "<div>\n",
       "<style scoped>\n",
       "    .dataframe tbody tr th:only-of-type {\n",
       "        vertical-align: middle;\n",
       "    }\n",
       "\n",
       "    .dataframe tbody tr th {\n",
       "        vertical-align: top;\n",
       "    }\n",
       "\n",
       "    .dataframe thead th {\n",
       "        text-align: right;\n",
       "    }\n",
       "</style>\n",
       "<table border=\"1\" class=\"dataframe\">\n",
       "  <thead>\n",
       "    <tr style=\"text-align: right;\">\n",
       "      <th></th>\n",
       "      <th>order</th>\n",
       "      <th>name</th>\n",
       "      <th>height(cm)</th>\n",
       "    </tr>\n",
       "  </thead>\n",
       "  <tbody>\n",
       "    <tr>\n",
       "      <th>0</th>\n",
       "      <td>1</td>\n",
       "      <td>George Washington</td>\n",
       "      <td>189</td>\n",
       "    </tr>\n",
       "    <tr>\n",
       "      <th>1</th>\n",
       "      <td>2</td>\n",
       "      <td>John Adams</td>\n",
       "      <td>170</td>\n",
       "    </tr>\n",
       "    <tr>\n",
       "      <th>2</th>\n",
       "      <td>3</td>\n",
       "      <td>Thomas Jefferson</td>\n",
       "      <td>189</td>\n",
       "    </tr>\n",
       "    <tr>\n",
       "      <th>3</th>\n",
       "      <td>4</td>\n",
       "      <td>James Madison</td>\n",
       "      <td>163</td>\n",
       "    </tr>\n",
       "    <tr>\n",
       "      <th>4</th>\n",
       "      <td>5</td>\n",
       "      <td>James Monroe</td>\n",
       "      <td>183</td>\n",
       "    </tr>\n",
       "  </tbody>\n",
       "</table>\n",
       "</div>"
      ],
      "text/plain": [
       "   order               name  height(cm)\n",
       "0      1  George Washington         189\n",
       "1      2         John Adams         170\n",
       "2      3   Thomas Jefferson         189\n",
       "3      4      James Madison         163\n",
       "4      5       James Monroe         183"
      ]
     },
     "execution_count": 56,
     "metadata": {},
     "output_type": "execute_result"
    }
   ],
   "source": [
    "df.head()"
   ]
  },
  {
   "cell_type": "code",
   "execution_count": 57,
   "id": "d8e9db2a",
   "metadata": {},
   "outputs": [],
   "source": [
    "heights = np.array(df['height(cm)'])"
   ]
  },
  {
   "cell_type": "code",
   "execution_count": 58,
   "id": "e64d5760",
   "metadata": {},
   "outputs": [
    {
     "data": {
      "text/plain": [
       "179.73809523809524"
      ]
     },
     "execution_count": 58,
     "metadata": {},
     "output_type": "execute_result"
    }
   ],
   "source": [
    "heights.mean()"
   ]
  },
  {
   "cell_type": "code",
   "execution_count": 59,
   "id": "6e22d097",
   "metadata": {},
   "outputs": [
    {
     "data": {
      "text/plain": [
       "163"
      ]
     },
     "execution_count": 59,
     "metadata": {},
     "output_type": "execute_result"
    }
   ],
   "source": [
    "heights.min()"
   ]
  },
  {
   "cell_type": "code",
   "execution_count": 60,
   "id": "cdd68402",
   "metadata": {},
   "outputs": [
    {
     "data": {
      "text/plain": [
       "193"
      ]
     },
     "execution_count": 60,
     "metadata": {},
     "output_type": "execute_result"
    }
   ],
   "source": [
    "heights.max()"
   ]
  },
  {
   "cell_type": "code",
   "execution_count": 63,
   "id": "ef0e0b83",
   "metadata": {},
   "outputs": [
    {
     "data": {
      "text/plain": [
       "6.931843442745892"
      ]
     },
     "execution_count": 63,
     "metadata": {},
     "output_type": "execute_result"
    }
   ],
   "source": [
    "heights.std()"
   ]
  },
  {
   "cell_type": "code",
   "execution_count": 64,
   "id": "c67c0bef",
   "metadata": {},
   "outputs": [
    {
     "data": {
      "text/plain": [
       "48.05045351473922"
      ]
     },
     "execution_count": 64,
     "metadata": {},
     "output_type": "execute_result"
    }
   ],
   "source": [
    "heights.var()"
   ]
  },
  {
   "cell_type": "code",
   "execution_count": 65,
   "id": "4caa9ac2",
   "metadata": {},
   "outputs": [
    {
     "data": {
      "text/plain": [
       "174.25"
      ]
     },
     "execution_count": 65,
     "metadata": {},
     "output_type": "execute_result"
    }
   ],
   "source": [
    "np.percentile(heights,q=25)"
   ]
  },
  {
   "cell_type": "code",
   "execution_count": 66,
   "id": "58d9de15",
   "metadata": {},
   "outputs": [
    {
     "data": {
      "text/plain": [
       "182.0"
      ]
     },
     "execution_count": 66,
     "metadata": {},
     "output_type": "execute_result"
    }
   ],
   "source": [
    "np.median(heights)"
   ]
  },
  {
   "cell_type": "code",
   "execution_count": 68,
   "id": "8c84cf78",
   "metadata": {},
   "outputs": [
    {
     "data": {
      "text/plain": [
       "183.0"
      ]
     },
     "execution_count": 68,
     "metadata": {},
     "output_type": "execute_result"
    }
   ],
   "source": [
    "np.percentile(heights,q=75)"
   ]
  },
  {
   "cell_type": "code",
   "execution_count": 71,
   "id": "66f99e33",
   "metadata": {},
   "outputs": [
    {
     "data": {
      "image/png": "[encoded data removed]",
      "text/plain": [
       "<Figure size 432x288 with 1 Axes>"
      ]
     },
     "metadata": {
      "needs_background": "light"
     },
     "output_type": "display_data"
    }
   ],
   "source": [
    "plt.hist(heights)\n",
    "plt.title(\"Height of US presidents(CM)\")\n",
    "plt.xlabel(\"height(CM)\")\n",
    "plt.ylabel(\"number\")\n",
    "plt.show()"
   ]
  },
  {
   "cell_type": "code",
   "execution_count": 72,
   "id": "046d9fd8",
   "metadata": {},
   "outputs": [
    {
     "data": {
      "text/plain": [
       "array([ 6,  8, 10])"
      ]
     },
     "execution_count": 72,
     "metadata": {},
     "output_type": "execute_result"
    }
   ],
   "source": [
    "a = np.array([1,2,3])\n",
    "b = np.array([5,6,7])\n",
    "a+b"
   ]
  },
  {
   "cell_type": "code",
   "execution_count": 73,
   "id": "dc736c84",
   "metadata": {},
   "outputs": [],
   "source": [
    "M1 = np.ones((3,3))"
   ]
  },
  {
   "cell_type": "code",
   "execution_count": 74,
   "id": "14290fbd",
   "metadata": {},
   "outputs": [
    {
     "data": {
      "text/plain": [
       "array([[2., 3., 4.],\n",
       "       [2., 3., 4.],\n",
       "       [2., 3., 4.]])"
      ]
     },
     "execution_count": 74,
     "metadata": {},
     "output_type": "execute_result"
    }
   ],
   "source": [
    "M1+a"
   ]
  },
  {
   "cell_type": "code",
   "execution_count": 75,
   "id": "77c7e602",
   "metadata": {},
   "outputs": [
    {
     "data": {
      "text/plain": [
       "(array([0, 1, 2]),\n",
       " array([[0],\n",
       "        [1],\n",
       "        [2]]))"
      ]
     },
     "execution_count": 75,
     "metadata": {},
     "output_type": "execute_result"
    }
   ],
   "source": [
    "a1 = np.arange(3)\n",
    "b1 = np.arange(3)[:,np.newaxis]\n",
    "a1,b1"
   ]
  },
  {
   "cell_type": "code",
   "execution_count": 77,
   "id": "93b7708e",
   "metadata": {},
   "outputs": [
    {
     "data": {
      "text/plain": [
       "array([[0, 1, 2],\n",
       "       [1, 2, 3],\n",
       "       [2, 3, 4]])"
      ]
     },
     "execution_count": 77,
     "metadata": {},
     "output_type": "execute_result"
    }
   ],
   "source": [
    "a1+b1"
   ]
  },
  {
   "cell_type": "code",
   "execution_count": 4,
   "id": "db142000",
   "metadata": {},
   "outputs": [],
   "source": [
    "X = np.random.random((10,3))"
   ]
  },
  {
   "cell_type": "code",
   "execution_count": 6,
   "id": "fbc190f1",
   "metadata": {},
   "outputs": [
    {
     "data": {
      "text/plain": [
       "array([0.3316241 , 0.41295701, 0.49600617])"
      ]
     },
     "execution_count": 6,
     "metadata": {},
     "output_type": "execute_result"
    }
   ],
   "source": [
    "X_mean = X.mean(axis=0)\n",
    "X_mean"
   ]
  },
  {
   "cell_type": "code",
   "execution_count": 7,
   "id": "d32f42eb",
   "metadata": {},
   "outputs": [],
   "source": [
    "X_centered = X - X_mean"
   ]
  },
  {
   "cell_type": "code",
   "execution_count": 9,
   "id": "3fe5d78a",
   "metadata": {},
   "outputs": [
    {
     "data": {
      "text/plain": [
       "array([1.11022302e-17, 9.99200722e-17, 4.44089210e-17])"
      ]
     },
     "execution_count": 9,
     "metadata": {},
     "output_type": "execute_result"
    }
   ],
   "source": [
    "X_centered.mean(axis=0)"
   ]
  },
  {
   "cell_type": "code",
   "execution_count": 11,
   "id": "6887e153",
   "metadata": {},
   "outputs": [],
   "source": [
    "x2 = np.linspace(0,5,50)\n",
    "y2 = np.linspace(0,5,50)[:,np.newaxis]\n",
    "z2 = np.sin(x2)**10+np.cos(10+x2*y2)*np.cos(x2)"
   ]
  },
  {
   "cell_type": "code",
   "execution_count": 17,
   "id": "d06fe15c",
   "metadata": {},
   "outputs": [
    {
     "data": {
      "image/png": "[encoded data removed]",
      "text/plain": [
       "<Figure size 432x288 with 1 Axes>"
      ]
     },
     "metadata": {
      "needs_background": "light"
     },
     "output_type": "display_data"
    }
   ],
   "source": [
    "plt.imshow(z2,origin='lower',cmap='viridis',extent=[0,5,0,5])\n",
    "plt.show()"
   ]
  },
  {
   "cell_type": "code",
   "execution_count": null,
   "id": "405d5165",
   "metadata": {},
   "outputs": [],
   "source": []
  },
  {
   "cell_type": "code",
   "execution_count": null,
   "id": "7ea67898",
   "metadata": {},
   "outputs": [],
   "source": []
  },
  {
   "cell_type": "code",
   "execution_count": null,
   "id": "76c14f77",
   "metadata": {},
   "outputs": [],
   "source": []
  }
 ],
 "metadata": {
  "kernelspec": {
   "display_name": "Python 3 (ipykernel)",
   "language": "python",
   "name": "python3"
  },
  "language_info": {
   "codemirror_mode": {
    "name": "ipython",
    "version": 3
   },
   "file_extension": ".py",
   "mimetype": "text/x-python",
   "name": "python",
   "nbconvert_exporter": "python",
   "pygments_lexer": "ipython3",
   "version": "3.9.7"
  }
 },
 "nbformat": 4,
 "nbformat_minor": 5
}
