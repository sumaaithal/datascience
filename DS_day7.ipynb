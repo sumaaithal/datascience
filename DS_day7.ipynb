{
 "cells": [
  {
   "cell_type": "code",
   "execution_count": 12,
   "id": "6afee96c",
   "metadata": {},
   "outputs": [],
   "source": [
    "import pandas as pd\n",
    "import numpy as np\n",
    "import matplotlib.pyplot as plt"
   ]
  },
  {
   "cell_type": "code",
   "execution_count": 2,
   "id": "0423ad30",
   "metadata": {},
   "outputs": [],
   "source": [
    "df = pd.read_csv(\"notebooks_v1/data/Seattle2014.csv\")"
   ]
  },
  {
   "cell_type": "code",
   "execution_count": 3,
   "id": "a13589e6",
   "metadata": {},
   "outputs": [
    {
     "data": {
      "text/html": [
       "<div>\n",
       "<style scoped>\n",
       "    .dataframe tbody tr th:only-of-type {\n",
       "        vertical-align: middle;\n",
       "    }\n",
       "\n",
       "    .dataframe tbody tr th {\n",
       "        vertical-align: top;\n",
       "    }\n",
       "\n",
       "    .dataframe thead th {\n",
       "        text-align: right;\n",
       "    }\n",
       "</style>\n",
       "<table border=\"1\" class=\"dataframe\">\n",
       "  <thead>\n",
       "    <tr style=\"text-align: right;\">\n",
       "      <th></th>\n",
       "      <th>STATION</th>\n",
       "      <th>STATION_NAME</th>\n",
       "      <th>DATE</th>\n",
       "      <th>PRCP</th>\n",
       "      <th>SNWD</th>\n",
       "      <th>SNOW</th>\n",
       "      <th>TMAX</th>\n",
       "      <th>TMIN</th>\n",
       "      <th>AWND</th>\n",
       "      <th>WDF2</th>\n",
       "      <th>WDF5</th>\n",
       "      <th>WSF2</th>\n",
       "      <th>WSF5</th>\n",
       "      <th>WT01</th>\n",
       "      <th>WT05</th>\n",
       "      <th>WT02</th>\n",
       "      <th>WT03</th>\n",
       "    </tr>\n",
       "  </thead>\n",
       "  <tbody>\n",
       "    <tr>\n",
       "      <th>0</th>\n",
       "      <td>GHCND:USW00024233</td>\n",
       "      <td>SEATTLE TACOMA INTERNATIONAL AIRPORT WA US</td>\n",
       "      <td>20140101</td>\n",
       "      <td>0</td>\n",
       "      <td>0</td>\n",
       "      <td>0</td>\n",
       "      <td>72</td>\n",
       "      <td>33</td>\n",
       "      <td>12</td>\n",
       "      <td>340</td>\n",
       "      <td>310</td>\n",
       "      <td>36</td>\n",
       "      <td>40</td>\n",
       "      <td>-9999</td>\n",
       "      <td>-9999</td>\n",
       "      <td>-9999</td>\n",
       "      <td>-9999</td>\n",
       "    </tr>\n",
       "    <tr>\n",
       "      <th>1</th>\n",
       "      <td>GHCND:USW00024233</td>\n",
       "      <td>SEATTLE TACOMA INTERNATIONAL AIRPORT WA US</td>\n",
       "      <td>20140102</td>\n",
       "      <td>41</td>\n",
       "      <td>0</td>\n",
       "      <td>0</td>\n",
       "      <td>106</td>\n",
       "      <td>61</td>\n",
       "      <td>32</td>\n",
       "      <td>190</td>\n",
       "      <td>200</td>\n",
       "      <td>94</td>\n",
       "      <td>116</td>\n",
       "      <td>-9999</td>\n",
       "      <td>-9999</td>\n",
       "      <td>-9999</td>\n",
       "      <td>-9999</td>\n",
       "    </tr>\n",
       "    <tr>\n",
       "      <th>2</th>\n",
       "      <td>GHCND:USW00024233</td>\n",
       "      <td>SEATTLE TACOMA INTERNATIONAL AIRPORT WA US</td>\n",
       "      <td>20140103</td>\n",
       "      <td>15</td>\n",
       "      <td>0</td>\n",
       "      <td>0</td>\n",
       "      <td>89</td>\n",
       "      <td>28</td>\n",
       "      <td>26</td>\n",
       "      <td>30</td>\n",
       "      <td>50</td>\n",
       "      <td>63</td>\n",
       "      <td>72</td>\n",
       "      <td>1</td>\n",
       "      <td>-9999</td>\n",
       "      <td>-9999</td>\n",
       "      <td>-9999</td>\n",
       "    </tr>\n",
       "    <tr>\n",
       "      <th>3</th>\n",
       "      <td>GHCND:USW00024233</td>\n",
       "      <td>SEATTLE TACOMA INTERNATIONAL AIRPORT WA US</td>\n",
       "      <td>20140104</td>\n",
       "      <td>0</td>\n",
       "      <td>0</td>\n",
       "      <td>0</td>\n",
       "      <td>78</td>\n",
       "      <td>6</td>\n",
       "      <td>27</td>\n",
       "      <td>40</td>\n",
       "      <td>40</td>\n",
       "      <td>45</td>\n",
       "      <td>58</td>\n",
       "      <td>1</td>\n",
       "      <td>-9999</td>\n",
       "      <td>-9999</td>\n",
       "      <td>-9999</td>\n",
       "    </tr>\n",
       "    <tr>\n",
       "      <th>4</th>\n",
       "      <td>GHCND:USW00024233</td>\n",
       "      <td>SEATTLE TACOMA INTERNATIONAL AIRPORT WA US</td>\n",
       "      <td>20140105</td>\n",
       "      <td>0</td>\n",
       "      <td>0</td>\n",
       "      <td>0</td>\n",
       "      <td>83</td>\n",
       "      <td>-5</td>\n",
       "      <td>37</td>\n",
       "      <td>10</td>\n",
       "      <td>10</td>\n",
       "      <td>67</td>\n",
       "      <td>76</td>\n",
       "      <td>-9999</td>\n",
       "      <td>-9999</td>\n",
       "      <td>-9999</td>\n",
       "      <td>-9999</td>\n",
       "    </tr>\n",
       "  </tbody>\n",
       "</table>\n",
       "</div>"
      ],
      "text/plain": [
       "             STATION                                STATION_NAME      DATE  \\\n",
       "0  GHCND:USW00024233  SEATTLE TACOMA INTERNATIONAL AIRPORT WA US  20140101   \n",
       "1  GHCND:USW00024233  SEATTLE TACOMA INTERNATIONAL AIRPORT WA US  20140102   \n",
       "2  GHCND:USW00024233  SEATTLE TACOMA INTERNATIONAL AIRPORT WA US  20140103   \n",
       "3  GHCND:USW00024233  SEATTLE TACOMA INTERNATIONAL AIRPORT WA US  20140104   \n",
       "4  GHCND:USW00024233  SEATTLE TACOMA INTERNATIONAL AIRPORT WA US  20140105   \n",
       "\n",
       "   PRCP  SNWD  SNOW  TMAX  TMIN  AWND  WDF2  WDF5  WSF2  WSF5  WT01  WT05  \\\n",
       "0     0     0     0    72    33    12   340   310    36    40 -9999 -9999   \n",
       "1    41     0     0   106    61    32   190   200    94   116 -9999 -9999   \n",
       "2    15     0     0    89    28    26    30    50    63    72     1 -9999   \n",
       "3     0     0     0    78     6    27    40    40    45    58     1 -9999   \n",
       "4     0     0     0    83    -5    37    10    10    67    76 -9999 -9999   \n",
       "\n",
       "   WT02  WT03  \n",
       "0 -9999 -9999  \n",
       "1 -9999 -9999  \n",
       "2 -9999 -9999  \n",
       "3 -9999 -9999  \n",
       "4 -9999 -9999  "
      ]
     },
     "execution_count": 3,
     "metadata": {},
     "output_type": "execute_result"
    }
   ],
   "source": [
    "df.head()"
   ]
  },
  {
   "cell_type": "code",
   "execution_count": 11,
   "id": "ee04320e",
   "metadata": {},
   "outputs": [
    {
     "data": {
      "text/plain": [
       "(array([0.        , 0.16141732, 0.05905512, 0.        , 0.        ,\n",
       "        0.01181102, 0.48031496, 0.38188976, 0.22834646, 0.16929134,\n",
       "        0.83858268, 0.05905512, 0.        , 0.        , 0.        ,\n",
       "        0.        , 0.        , 0.        , 0.        , 0.        ,\n",
       "        0.        , 0.01968504, 0.        , 0.        , 0.        ,\n",
       "        0.        , 0.        , 0.3503937 , 0.8503937 , 0.        ,\n",
       "        0.09055118, 0.07874016, 0.        , 0.        , 0.        ,\n",
       "        0.        , 0.        , 0.        , 0.2007874 , 0.01968504,\n",
       "        0.72047244, 0.66929134, 0.18110236, 0.07086614, 0.37007874,\n",
       "        0.46062992, 1.03937008, 0.57086614, 0.5984252 , 0.03937008,\n",
       "        0.11811024, 0.11023622, 0.0984252 , 0.24015748, 0.51181102,\n",
       "        0.01181102, 0.        , 0.        , 0.        , 0.01968504,\n",
       "        0.7519685 , 0.42125984, 0.6496063 , 1.83858268, 0.11811024,\n",
       "        0.        , 1.27165354, 0.16929134, 0.74015748, 0.        ,\n",
       "        0.        , 0.01968504, 0.27165354, 0.31889764, 1.09055118,\n",
       "        0.01181102, 0.        , 0.01968504, 0.        , 0.        ,\n",
       "        0.        , 0.        , 0.        , 0.16141732, 0.14173228,\n",
       "        0.01181102, 0.87007874, 0.5511811 , 0.        , 0.        ,\n",
       "        0.        , 0.        , 0.0984252 , 0.        , 0.18110236,\n",
       "        0.        , 0.        , 0.18110236, 0.        , 0.        ,\n",
       "        0.        , 0.        , 0.        , 0.        , 0.01968504,\n",
       "        0.42913386, 0.72834646, 0.        , 0.53937008, 0.        ,\n",
       "        0.2007874 , 0.55905512, 0.3503937 , 0.48818898, 0.        ,\n",
       "        0.12992126, 0.27165354, 0.        , 0.        , 0.        ,\n",
       "        0.        , 0.        , 1.31102362, 0.62992126, 0.2007874 ,\n",
       "        0.        , 0.        , 0.53937008, 0.07874016, 0.01968504,\n",
       "        0.        , 0.        , 0.        , 0.        , 0.        ,\n",
       "        0.        , 0.        , 0.        , 0.        , 0.        ,\n",
       "        0.        , 0.        , 0.1496063 , 0.        , 0.22047244,\n",
       "        0.        , 0.        , 0.        , 0.        , 0.        ,\n",
       "        0.        , 0.        , 0.        , 0.        , 0.        ,\n",
       "        0.        , 0.        , 0.        , 0.        , 0.        ,\n",
       "        0.        , 0.        , 0.07086614, 0.2519685 , 0.        ,\n",
       "        0.01968504, 0.14173228, 0.0511811 , 0.        , 0.03149606,\n",
       "        0.01181102, 0.        , 0.        , 0.        , 0.        ,\n",
       "        0.        , 0.        , 0.07086614, 0.09055118, 0.        ,\n",
       "        0.        , 0.        , 0.        , 0.        , 0.        ,\n",
       "        0.        , 0.        , 0.        , 0.        , 0.        ,\n",
       "        0.        , 0.        , 0.        , 0.        , 0.        ,\n",
       "        0.        , 0.        , 0.        , 0.        , 0.        ,\n",
       "        0.        , 0.        , 0.01181102, 0.75984252, 0.        ,\n",
       "        0.        , 0.        , 0.        , 0.        , 0.        ,\n",
       "        0.        , 0.        , 0.        , 0.01968504, 0.        ,\n",
       "        0.        , 0.        , 0.        , 0.        , 0.        ,\n",
       "        0.        , 0.        , 0.01968504, 0.5       , 0.8503937 ,\n",
       "        0.        , 0.03937008, 0.        , 0.        , 0.        ,\n",
       "        0.        , 0.        , 0.        , 0.        , 0.        ,\n",
       "        0.        , 0.        , 0.        , 0.        , 0.        ,\n",
       "        0.        , 0.33070866, 0.0511811 , 0.        , 0.11811024,\n",
       "        0.        , 0.        , 0.        , 0.        , 0.        ,\n",
       "        0.        , 0.        , 0.        , 0.        , 0.        ,\n",
       "        0.        , 0.        , 0.        , 0.        , 0.01968504,\n",
       "        0.01181102, 0.        , 0.        , 0.        , 0.01181102,\n",
       "        0.72047244, 0.7992126 , 0.16929134, 0.3503937 , 0.        ,\n",
       "        0.        , 0.03149606, 0.        , 0.        , 0.        ,\n",
       "        0.        , 0.        , 0.        , 0.        , 0.        ,\n",
       "        0.        , 0.        , 0.01181102, 0.29133858, 0.        ,\n",
       "        0.2992126 , 0.27952756, 0.33858268, 0.        , 0.12992126,\n",
       "        0.59055118, 0.        , 0.46062992, 0.03937008, 1.25984252,\n",
       "        0.37007874, 0.16141732, 0.24015748, 0.05905512, 0.03149606,\n",
       "        0.5       , 0.01968504, 1.        , 0.66929134, 0.        ,\n",
       "        0.07086614, 0.42913386, 0.16141732, 0.18897638, 0.16141732,\n",
       "        0.        , 0.        , 0.2007874 , 0.        , 0.        ,\n",
       "        0.        , 0.        , 0.        , 0.        , 0.        ,\n",
       "        0.        , 0.        , 0.        , 0.14173228, 0.5984252 ,\n",
       "        0.01968504, 0.46850394, 0.0511811 , 0.72047244, 0.01181102,\n",
       "        0.12992126, 1.3503937 , 0.14173228, 0.        , 0.        ,\n",
       "        0.        , 0.        , 0.03149606, 0.11811024, 0.29133858,\n",
       "        0.        , 0.35826772, 0.38976378, 0.51181102, 0.27165354,\n",
       "        0.        , 0.        , 0.        , 0.        , 0.        ,\n",
       "        0.11023622, 0.51181102, 0.11811024, 0.77165354, 0.        ,\n",
       "        0.        , 0.81102362, 0.20866142, 0.        , 0.        ,\n",
       "        0.12992126, 0.16141732, 0.        , 0.        , 0.        ]),\n",
       " (365,))"
      ]
     },
     "execution_count": 11,
     "metadata": {},
     "output_type": "execute_result"
    }
   ],
   "source": [
    "rainfall = df['PRCP'].values\n",
    "rainfall_inches = rainfall/254\n",
    "rainfall_inches, rainfall_inches.shape"
   ]
  },
  {
   "cell_type": "code",
   "execution_count": 15,
   "id": "e0a8c99c",
   "metadata": {},
   "outputs": [
    {
     "data": {
      "image/png": "[encoded data removed]",
      "text/plain": [
       "<Figure size 432x288 with 1 Axes>"
      ]
     },
     "metadata": {
      "needs_background": "light"
     },
     "output_type": "display_data"
    }
   ],
   "source": [
    "plt.hist(rainfall_inches,40)\n",
    "plt.show()"
   ]
  },
  {
   "cell_type": "code",
   "execution_count": 16,
   "id": "dc096e42",
   "metadata": {},
   "outputs": [
    {
     "data": {
      "text/plain": [
       "array([False, False, False,  True])"
      ]
     },
     "execution_count": 16,
     "metadata": {},
     "output_type": "execute_result"
    }
   ],
   "source": [
    "x = np.array([1,2,3,4])\n",
    "x>3"
   ]
  },
  {
   "cell_type": "code",
   "execution_count": 17,
   "id": "03adbc4f",
   "metadata": {},
   "outputs": [
    {
     "data": {
      "text/plain": [
       "array([ True,  True,  True, False])"
      ]
     },
     "execution_count": 17,
     "metadata": {},
     "output_type": "execute_result"
    }
   ],
   "source": [
    "x<=3"
   ]
  },
  {
   "cell_type": "code",
   "execution_count": 18,
   "id": "a8b09435",
   "metadata": {},
   "outputs": [
    {
     "data": {
      "text/plain": [
       "array([ True,  True, False, False])"
      ]
     },
     "execution_count": 18,
     "metadata": {},
     "output_type": "execute_result"
    }
   ],
   "source": [
    "(2*x) == (2**x)"
   ]
  },
  {
   "cell_type": "code",
   "execution_count": 19,
   "id": "d26f5e69",
   "metadata": {},
   "outputs": [
    {
     "data": {
      "text/plain": [
       "array([ True,  True,  True, False])"
      ]
     },
     "execution_count": 19,
     "metadata": {},
     "output_type": "execute_result"
    }
   ],
   "source": [
    "np.less_equal(x,3)"
   ]
  },
  {
   "cell_type": "code",
   "execution_count": 24,
   "id": "ea774eb2",
   "metadata": {},
   "outputs": [
    {
     "data": {
      "text/plain": [
       "(array([[5, 0, 3],\n",
       "        [3, 7, 9],\n",
       "        [3, 5, 2],\n",
       "        [4, 7, 6]]),\n",
       " array([[ True,  True,  True],\n",
       "        [ True, False, False],\n",
       "        [ True,  True,  True],\n",
       "        [ True, False, False]]))"
      ]
     },
     "execution_count": 24,
     "metadata": {},
     "output_type": "execute_result"
    }
   ],
   "source": [
    "rng = np.random.RandomState(0)\n",
    "x1 = rng.randint(10,size=(4,3))\n",
    "\n",
    "x1,x1 < 6"
   ]
  },
  {
   "cell_type": "code",
   "execution_count": 30,
   "id": "5335e013",
   "metadata": {},
   "outputs": [
    {
     "data": {
      "text/plain": [
       "8"
      ]
     },
     "execution_count": 30,
     "metadata": {},
     "output_type": "execute_result"
    }
   ],
   "source": [
    "np.count_nonzero(x1<6)"
   ]
  },
  {
   "cell_type": "code",
   "execution_count": 29,
   "id": "79815989",
   "metadata": {},
   "outputs": [
    {
     "data": {
      "text/plain": [
       "8"
      ]
     },
     "execution_count": 29,
     "metadata": {},
     "output_type": "execute_result"
    }
   ],
   "source": [
    "np.sum(x1<6)"
   ]
  },
  {
   "cell_type": "code",
   "execution_count": 31,
   "id": "312b82e9",
   "metadata": {},
   "outputs": [
    {
     "data": {
      "text/plain": [
       "array([3, 1, 3, 1])"
      ]
     },
     "execution_count": 31,
     "metadata": {},
     "output_type": "execute_result"
    }
   ],
   "source": [
    "np.sum(x1<6,axis=1)"
   ]
  },
  {
   "cell_type": "code",
   "execution_count": 32,
   "id": "26c75300",
   "metadata": {},
   "outputs": [
    {
     "data": {
      "text/plain": [
       "True"
      ]
     },
     "execution_count": 32,
     "metadata": {},
     "output_type": "execute_result"
    }
   ],
   "source": [
    "np.any(x1<6)"
   ]
  },
  {
   "cell_type": "code",
   "execution_count": 33,
   "id": "1f308771",
   "metadata": {},
   "outputs": [
    {
     "data": {
      "text/plain": [
       "False"
      ]
     },
     "execution_count": 33,
     "metadata": {},
     "output_type": "execute_result"
    }
   ],
   "source": [
    "np.all(x1<6)"
   ]
  },
  {
   "cell_type": "code",
   "execution_count": 34,
   "id": "055b1e51",
   "metadata": {},
   "outputs": [
    {
     "data": {
      "text/plain": [
       "False"
      ]
     },
     "execution_count": 34,
     "metadata": {},
     "output_type": "execute_result"
    }
   ],
   "source": [
    "np.all(x1==6)"
   ]
  },
  {
   "cell_type": "code",
   "execution_count": 35,
   "id": "52ff2ca6",
   "metadata": {},
   "outputs": [
    {
     "data": {
      "text/plain": [
       "array([ True, False,  True,  True])"
      ]
     },
     "execution_count": 35,
     "metadata": {},
     "output_type": "execute_result"
    }
   ],
   "source": [
    "np.all(x1<8,axis=1)"
   ]
  },
  {
   "cell_type": "code",
   "execution_count": 36,
   "id": "7a39a6df",
   "metadata": {},
   "outputs": [
    {
     "data": {
      "text/plain": [
       "29"
      ]
     },
     "execution_count": 36,
     "metadata": {},
     "output_type": "execute_result"
    }
   ],
   "source": [
    "np.sum((rainfall_inches>0.5) & (rainfall_inches<1))"
   ]
  },
  {
   "cell_type": "code",
   "execution_count": 38,
   "id": "33dd408f",
   "metadata": {},
   "outputs": [
    {
     "data": {
      "text/plain": [
       "29"
      ]
     },
     "execution_count": 38,
     "metadata": {},
     "output_type": "execute_result"
    }
   ],
   "source": [
    "np.sum(~ ((rainfall_inches<=0.5) | (rainfall_inches>=1)))"
   ]
  },
  {
   "cell_type": "code",
   "execution_count": 39,
   "id": "065e4311",
   "metadata": {},
   "outputs": [
    {
     "name": "stdout",
     "output_type": "stream",
     "text": [
      "days without rain: 215\n"
     ]
    }
   ],
   "source": [
    "print(\"days without rain:\",np.sum(rainfall_inches == 0))"
   ]
  },
  {
   "cell_type": "code",
   "execution_count": 40,
   "id": "fd712bd2",
   "metadata": {},
   "outputs": [
    {
     "name": "stdout",
     "output_type": "stream",
     "text": [
      "days with rain: 150\n"
     ]
    }
   ],
   "source": [
    "print(\"days with rain:\",np.sum(rainfall_inches!=0))"
   ]
  },
  {
   "cell_type": "code",
   "execution_count": 41,
   "id": "1745594a",
   "metadata": {},
   "outputs": [
    {
     "name": "stdout",
     "output_type": "stream",
     "text": [
      "days with >0.5 inches of rain: 37\n"
     ]
    }
   ],
   "source": [
    "print(\"days with >0.5 inches of rain:\",np.sum(rainfall_inches>0.5))"
   ]
  },
  {
   "cell_type": "code",
   "execution_count": 42,
   "id": "bb9b7820",
   "metadata": {},
   "outputs": [
    {
     "name": "stdout",
     "output_type": "stream",
     "text": [
      "days with <0.1 inches of rain: 75\n"
     ]
    }
   ],
   "source": [
    "print(\"days with <0.1 inches of rain:\",np.sum((rainfall_inches >0) & (rainfall_inches<0.2)))"
   ]
  },
  {
   "cell_type": "code",
   "execution_count": 44,
   "id": "206585ae",
   "metadata": {},
   "outputs": [
    {
     "data": {
      "text/plain": [
       "(array([[False,  True,  True],\n",
       "        [ True, False, False],\n",
       "        [ True, False,  True],\n",
       "        [ True, False, False]]),\n",
       " array([[5, 0, 3],\n",
       "        [3, 7, 9],\n",
       "        [3, 5, 2],\n",
       "        [4, 7, 6]]))"
      ]
     },
     "execution_count": 44,
     "metadata": {},
     "output_type": "execute_result"
    }
   ],
   "source": [
    "x1<5,x1"
   ]
  },
  {
   "cell_type": "code",
   "execution_count": 45,
   "id": "4b36730f",
   "metadata": {},
   "outputs": [
    {
     "data": {
      "text/plain": [
       "array([0, 3, 3, 3, 2, 4])"
      ]
     },
     "execution_count": 45,
     "metadata": {},
     "output_type": "execute_result"
    }
   ],
   "source": [
    "x1[x1<5]"
   ]
  },
  {
   "cell_type": "code",
   "execution_count": 46,
   "id": "1ef411f2",
   "metadata": {},
   "outputs": [],
   "source": [
    "rainy = rainfall_inches > 0"
   ]
  },
  {
   "cell_type": "code",
   "execution_count": 47,
   "id": "531238d8",
   "metadata": {},
   "outputs": [],
   "source": [
    "summer = (np.arange(365)-172 < 90) & (np.arange(365)-172 > 0)"
   ]
  },
  {
   "cell_type": "code",
   "execution_count": 48,
   "id": "8ebc55dc",
   "metadata": {},
   "outputs": [
    {
     "name": "stdout",
     "output_type": "stream",
     "text": [
      "median rainy day: 0.19488188976377951\n"
     ]
    }
   ],
   "source": [
    "print(\"median precip in rainy day:\", np.median(rainfall_inches[rainy]))"
   ]
  },
  {
   "cell_type": "code",
   "execution_count": 49,
   "id": "b563d9f4",
   "metadata": {},
   "outputs": [
    {
     "name": "stdout",
     "output_type": "stream",
     "text": [
      "median precip in summer days: 0.0\n"
     ]
    }
   ],
   "source": [
    "print(\"median precip in summer days:\",np.median(rainfall_inches[summer]))"
   ]
  },
  {
   "cell_type": "code",
   "execution_count": 50,
   "id": "269f5f02",
   "metadata": {},
   "outputs": [
    {
     "name": "stdout",
     "output_type": "stream",
     "text": [
      "maximum precip in summer days: 0.8503937007874016\n"
     ]
    }
   ],
   "source": [
    "print(\"maximum precip in summer days:\",np.max(rainfall_inches[summer]))"
   ]
  },
  {
   "cell_type": "code",
   "execution_count": 51,
   "id": "24151027",
   "metadata": {},
   "outputs": [
    {
     "name": "stdout",
     "output_type": "stream",
     "text": [
      "median precip in non-summer rainy days: 0.20078740157480315\n"
     ]
    }
   ],
   "source": [
    "print(\"median precip in non-summer rainy days:\",np.median(rainfall_inches[rainy & ~summer]))"
   ]
  },
  {
   "cell_type": "code",
   "execution_count": 52,
   "id": "cb4a10f1",
   "metadata": {},
   "outputs": [],
   "source": [
    "A = np.array([1, 0, 1, 0, 1, 0], dtype=bool)\n",
    "B = np.array([1, 1, 1, 0, 1, 1], dtype=bool)"
   ]
  },
  {
   "cell_type": "code",
   "execution_count": 54,
   "id": "10dd9c61",
   "metadata": {},
   "outputs": [
    {
     "data": {
      "text/plain": [
       "array([ True, False,  True, False,  True, False])"
      ]
     },
     "execution_count": 54,
     "metadata": {},
     "output_type": "execute_result"
    }
   ],
   "source": [
    "A & B"
   ]
  },
  {
   "cell_type": "code",
   "execution_count": 55,
   "id": "b5efa49b",
   "metadata": {},
   "outputs": [
    {
     "data": {
      "text/plain": [
       "array([ True,  True,  True, False,  True,  True])"
      ]
     },
     "execution_count": 55,
     "metadata": {},
     "output_type": "execute_result"
    }
   ],
   "source": [
    "A | B"
   ]
  },
  {
   "cell_type": "code",
   "execution_count": 56,
   "id": "bf85ec5f",
   "metadata": {},
   "outputs": [
    {
     "ename": "ValueError",
     "evalue": "The truth value of an array with more than one element is ambiguous. Use a.any() or a.all()",
     "output_type": "error",
     "traceback": [
      "\u001b[1;31m---------------------------------------------------------------------------\u001b[0m",
      "\u001b[1;31mValueError\u001b[0m                                Traceback (most recent call last)",
      "\u001b[1;32m~\\AppData\\Local\\Temp/ipykernel_17128/3447948156.py\u001b[0m in \u001b[0;36m<module>\u001b[1;34m\u001b[0m\n\u001b[1;32m----> 1\u001b[1;33m \u001b[0mA\u001b[0m \u001b[1;32mor\u001b[0m \u001b[0mB\u001b[0m\u001b[1;33m\u001b[0m\u001b[1;33m\u001b[0m\u001b[0m\n\u001b[0m",
      "\u001b[1;31mValueError\u001b[0m: The truth value of an array with more than one element is ambiguous. Use a.any() or a.all()"
     ]
    }
   ],
   "source": [
    "A or B"
   ]
  },
  {
   "cell_type": "code",
   "execution_count": 59,
   "id": "6feb945e",
   "metadata": {},
   "outputs": [
    {
     "data": {
      "text/plain": [
       "array([0, 1, 2, 3, 4, 5, 6, 7, 8, 9])"
      ]
     },
     "execution_count": 59,
     "metadata": {},
     "output_type": "execute_result"
    }
   ],
   "source": [
    "x = np.arange(10)\n",
    "x"
   ]
  },
  {
   "cell_type": "code",
   "execution_count": 58,
   "id": "d3c4df04",
   "metadata": {},
   "outputs": [
    {
     "data": {
      "text/plain": [
       "array([ True,  True,  True,  True,  True, False, False, False, False,\n",
       "       False])"
      ]
     },
     "execution_count": 58,
     "metadata": {},
     "output_type": "execute_result"
    }
   ],
   "source": [
    "(x < 5) | (x < 2)"
   ]
  },
  {
   "cell_type": "code",
   "execution_count": 61,
   "id": "1ab4ef67",
   "metadata": {},
   "outputs": [
    {
     "ename": "ValueError",
     "evalue": "The truth value of an array with more than one element is ambiguous. Use a.any() or a.all()",
     "output_type": "error",
     "traceback": [
      "\u001b[1;31m---------------------------------------------------------------------------\u001b[0m",
      "\u001b[1;31mValueError\u001b[0m                                Traceback (most recent call last)",
      "\u001b[1;32m~\\AppData\\Local\\Temp/ipykernel_17128/3391119526.py\u001b[0m in \u001b[0;36m<module>\u001b[1;34m\u001b[0m\n\u001b[1;32m----> 1\u001b[1;33m \u001b[1;33m(\u001b[0m\u001b[0mx\u001b[0m \u001b[1;33m<\u001b[0m \u001b[1;36m5\u001b[0m\u001b[1;33m)\u001b[0m \u001b[1;32mor\u001b[0m \u001b[1;33m(\u001b[0m\u001b[0mx\u001b[0m \u001b[1;33m<\u001b[0m \u001b[1;36m2\u001b[0m\u001b[1;33m)\u001b[0m\u001b[1;33m\u001b[0m\u001b[1;33m\u001b[0m\u001b[0m\n\u001b[0m",
      "\u001b[1;31mValueError\u001b[0m: The truth value of an array with more than one element is ambiguous. Use a.any() or a.all()"
     ]
    }
   ],
   "source": [
    "(x < 5) or (x < 2)"
   ]
  },
  {
   "cell_type": "code",
   "execution_count": 63,
   "id": "e547326e",
   "metadata": {},
   "outputs": [
    {
     "data": {
      "text/plain": [
       "array([51, 92, 14, 71, 60, 20, 82, 86, 74, 74])"
      ]
     },
     "execution_count": 63,
     "metadata": {},
     "output_type": "execute_result"
    }
   ],
   "source": [
    "ran1 = np.random.RandomState(42)\n",
    "x2 = ran1.randint(100,size=10)\n",
    "x2"
   ]
  },
  {
   "cell_type": "code",
   "execution_count": 67,
   "id": "5a466984",
   "metadata": {},
   "outputs": [
    {
     "data": {
      "text/plain": [
       "[82, 74, 92]"
      ]
     },
     "execution_count": 67,
     "metadata": {},
     "output_type": "execute_result"
    }
   ],
   "source": [
    "[x2[6],x2[9],x2[1]]"
   ]
  },
  {
   "cell_type": "code",
   "execution_count": 68,
   "id": "8092a351",
   "metadata": {},
   "outputs": [],
   "source": [
    "ind = [6,9,1]"
   ]
  },
  {
   "cell_type": "code",
   "execution_count": 70,
   "id": "91769bf1",
   "metadata": {},
   "outputs": [
    {
     "data": {
      "text/plain": [
       "array([82, 74, 92])"
      ]
     },
     "execution_count": 70,
     "metadata": {},
     "output_type": "execute_result"
    }
   ],
   "source": [
    "x2[ind]"
   ]
  },
  {
   "cell_type": "code",
   "execution_count": 71,
   "id": "fde49a2b",
   "metadata": {},
   "outputs": [],
   "source": [
    "ind1 = np.array([[3,7],\n",
    "                [4,5]])"
   ]
  },
  {
   "cell_type": "code",
   "execution_count": 72,
   "id": "aeb9fa5f",
   "metadata": {},
   "outputs": [
    {
     "data": {
      "text/plain": [
       "array([[71, 86],\n",
       "       [60, 20]])"
      ]
     },
     "execution_count": 72,
     "metadata": {},
     "output_type": "execute_result"
    }
   ],
   "source": [
    "x2[ind1]"
   ]
  },
  {
   "cell_type": "code",
   "execution_count": 74,
   "id": "bc22dc9b",
   "metadata": {},
   "outputs": [
    {
     "data": {
      "text/plain": [
       "array([[ 0,  1,  2],\n",
       "       [ 3,  4,  5],\n",
       "       [ 6,  7,  8],\n",
       "       [ 9, 10, 11]])"
      ]
     },
     "execution_count": 74,
     "metadata": {},
     "output_type": "execute_result"
    }
   ],
   "source": [
    "x3 = np.arange(12).reshape((4,3))\n",
    "x3"
   ]
  },
  {
   "cell_type": "code",
   "execution_count": 86,
   "id": "6e1ee0e0",
   "metadata": {},
   "outputs": [],
   "source": [
    "row = np.array([0,2,3])\n",
    "col = np.array([1,0,2])"
   ]
  },
  {
   "cell_type": "code",
   "execution_count": 87,
   "id": "f11bd477",
   "metadata": {},
   "outputs": [
    {
     "data": {
      "text/plain": [
       "array([ 1,  6, 11])"
      ]
     },
     "execution_count": 87,
     "metadata": {},
     "output_type": "execute_result"
    }
   ],
   "source": [
    "x3[row,col]"
   ]
  },
  {
   "cell_type": "code",
   "execution_count": 88,
   "id": "bcc581ec",
   "metadata": {},
   "outputs": [
    {
     "data": {
      "text/plain": [
       "array([[ 1,  0,  2],\n",
       "       [ 4,  3,  5],\n",
       "       [ 7,  6,  8],\n",
       "       [10,  9, 11]])"
      ]
     },
     "execution_count": 88,
     "metadata": {},
     "output_type": "execute_result"
    }
   ],
   "source": [
    "x3[:np.newaxis,col]"
   ]
  },
  {
   "cell_type": "code",
   "execution_count": 91,
   "id": "70916ad4",
   "metadata": {},
   "outputs": [
    {
     "data": {
      "text/plain": [
       "array([8, 6, 7])"
      ]
     },
     "execution_count": 91,
     "metadata": {},
     "output_type": "execute_result"
    }
   ],
   "source": [
    "x3[2,[2,0,1]]"
   ]
  },
  {
   "cell_type": "code",
   "execution_count": 92,
   "id": "22dbb159",
   "metadata": {},
   "outputs": [
    {
     "data": {
      "text/plain": [
       "array([[ 5,  3,  4],\n",
       "       [ 8,  6,  7],\n",
       "       [11,  9, 10]])"
      ]
     },
     "execution_count": 92,
     "metadata": {},
     "output_type": "execute_result"
    }
   ],
   "source": [
    "x3[1:,[2,0,1]]"
   ]
  },
  {
   "cell_type": "code",
   "execution_count": 99,
   "id": "17d2d4db",
   "metadata": {},
   "outputs": [
    {
     "data": {
      "text/plain": [
       "(array([0, 2, 3]),\n",
       " array([[ 0,  1,  2],\n",
       "        [ 3,  4,  5],\n",
       "        [ 6,  7,  8],\n",
       "        [ 9, 10, 11]]))"
      ]
     },
     "execution_count": 99,
     "metadata": {},
     "output_type": "execute_result"
    }
   ],
   "source": [
    "row,x3"
   ]
  },
  {
   "cell_type": "code",
   "execution_count": 97,
   "id": "f31a0b62",
   "metadata": {},
   "outputs": [
    {
     "data": {
      "text/plain": [
       "array([[ 0,  2],\n",
       "       [ 6,  8],\n",
       "       [ 9, 11]])"
      ]
     },
     "execution_count": 97,
     "metadata": {},
     "output_type": "execute_result"
    }
   ],
   "source": [
    "mask = np.array([1,0,1],dtype=bool)\n",
    "\n",
    "x3[row[:,np.newaxis],mask]"
   ]
  },
  {
   "cell_type": "code",
   "execution_count": 100,
   "id": "5dc1b35e",
   "metadata": {},
   "outputs": [],
   "source": [
    "mean = [0,0]\n",
    "cov = [[1,2],\n",
    "      [2,5]]"
   ]
  },
  {
   "cell_type": "code",
   "execution_count": 101,
   "id": "7b72e5ef",
   "metadata": {},
   "outputs": [],
   "source": [
    "x4 = ran1.multivariate_normal(mean,cov,size=100)"
   ]
  },
  {
   "cell_type": "code",
   "execution_count": 102,
   "id": "35616a2b",
   "metadata": {},
   "outputs": [
    {
     "data": {
      "text/plain": [
       "(100, 2)"
      ]
     },
     "execution_count": 102,
     "metadata": {},
     "output_type": "execute_result"
    }
   ],
   "source": [
    "x4.shape"
   ]
  },
  {
   "cell_type": "code",
   "execution_count": 103,
   "id": "fe0292da",
   "metadata": {},
   "outputs": [
    {
     "data": {
      "image/png": "[encoded data removed]",
      "text/plain": [
       "<Figure size 432x288 with 1 Axes>"
      ]
     },
     "metadata": {
      "needs_background": "light"
     },
     "output_type": "display_data"
    }
   ],
   "source": [
    "plt.scatter(x4[:,0],x4[:,1])\n",
    "plt.show()"
   ]
  },
  {
   "cell_type": "code",
   "execution_count": 104,
   "id": "7d4a9288",
   "metadata": {},
   "outputs": [
    {
     "data": {
      "text/plain": [
       "array([86, 71, 98, 47, 41, 73, 18, 38, 25, 13, 19, 89, 59, 37, 39, 53, 28,\n",
       "       22, 34, 65])"
      ]
     },
     "execution_count": 104,
     "metadata": {},
     "output_type": "execute_result"
    }
   ],
   "source": [
    "indices = np.random.choice(x4.shape[0],size=20,replace=False)\n",
    "indices"
   ]
  },
  {
   "cell_type": "code",
   "execution_count": 108,
   "id": "ca9f2092",
   "metadata": {},
   "outputs": [
    {
     "data": {
      "image/png": "[encoded data removed]",
      "text/plain": [
       "<Figure size 432x288 with 1 Axes>"
      ]
     },
     "metadata": {
      "needs_background": "light"
     },
     "output_type": "display_data"
    }
   ],
   "source": [
    "selection = x4[indices]\n",
    "plt.scatter(x4[:,0],x4[:,1],alpha=0.4)\n",
    "plt.scatter(selection[:,0],selection[:,1],facecolor='none',s=200)\n",
    "plt.show()"
   ]
  },
  {
   "cell_type": "code",
   "execution_count": 109,
   "id": "31fd8d3b",
   "metadata": {},
   "outputs": [],
   "source": [
    "x5 = np.arange(10)\n",
    "i =  np.array([1,4,6,7])\n",
    "\n",
    "x5[i] = 99"
   ]
  },
  {
   "cell_type": "code",
   "execution_count": 111,
   "id": "2d646e3a",
   "metadata": {},
   "outputs": [],
   "source": [
    "x5[i]-=5"
   ]
  },
  {
   "cell_type": "code",
   "execution_count": 112,
   "id": "a0e7fd63",
   "metadata": {},
   "outputs": [
    {
     "data": {
      "text/plain": [
       "array([ 0, 94,  2,  3, 94,  5, 94, 94,  8,  9])"
      ]
     },
     "execution_count": 112,
     "metadata": {},
     "output_type": "execute_result"
    }
   ],
   "source": [
    "x5"
   ]
  },
  {
   "cell_type": "code",
   "execution_count": 114,
   "id": "5414156c",
   "metadata": {},
   "outputs": [
    {
     "name": "stdout",
     "output_type": "stream",
     "text": [
      "[0. 1. 0. 0. 1. 0. 1. 1. 0. 0.]\n"
     ]
    }
   ],
   "source": [
    "x6 = np.zeros(10)\n",
    "np.add.at(x6,i,1)\n",
    "print(x6)"
   ]
  },
  {
   "cell_type": "code",
   "execution_count": 115,
   "id": "3d1f1dd7",
   "metadata": {},
   "outputs": [],
   "source": [
    "def selection_sort(x):\n",
    "    for i in range(len(x)):\n",
    "        swap = i + np.argmin(x[i:])\n",
    "        (x[i],x[swap]) = (x[swap],x[i])\n",
    "    return x"
   ]
  },
  {
   "cell_type": "code",
   "execution_count": 116,
   "id": "88d8f4f7",
   "metadata": {},
   "outputs": [
    {
     "data": {
      "text/plain": [
       "array([1, 1, 2, 3, 4])"
      ]
     },
     "execution_count": 116,
     "metadata": {},
     "output_type": "execute_result"
    }
   ],
   "source": [
    "x = np.array([1,2,1,4,3])\n",
    "selection_sort(x)"
   ]
  },
  {
   "cell_type": "code",
   "execution_count": 121,
   "id": "ae37923d",
   "metadata": {},
   "outputs": [
    {
     "data": {
      "text/plain": [
       "1"
      ]
     },
     "execution_count": 121,
     "metadata": {},
     "output_type": "execute_result"
    }
   ],
   "source": [
    "1+np.argmin(x[1:])"
   ]
  },
  {
   "cell_type": "code",
   "execution_count": 123,
   "id": "7669c461",
   "metadata": {},
   "outputs": [
    {
     "data": {
      "text/plain": [
       "array([1, 2, 3, 5])"
      ]
     },
     "execution_count": 123,
     "metadata": {},
     "output_type": "execute_result"
    }
   ],
   "source": [
    "np.sort([2,1,3,5])"
   ]
  },
  {
   "cell_type": "code",
   "execution_count": 124,
   "id": "c2774792",
   "metadata": {},
   "outputs": [],
   "source": [
    "x5 = np.array([3,5,6,1,4])\n",
    "i = np.argsort(x5)"
   ]
  },
  {
   "cell_type": "code",
   "execution_count": 125,
   "id": "32054d6a",
   "metadata": {},
   "outputs": [
    {
     "data": {
      "text/plain": [
       "array([1, 3, 4, 5, 6])"
      ]
     },
     "execution_count": 125,
     "metadata": {},
     "output_type": "execute_result"
    }
   ],
   "source": [
    "x5[i]"
   ]
  },
  {
   "cell_type": "code",
   "execution_count": 126,
   "id": "22df027d",
   "metadata": {},
   "outputs": [],
   "source": [
    "rand3 = np.random.RandomState(42)"
   ]
  },
  {
   "cell_type": "code",
   "execution_count": 128,
   "id": "26858f1c",
   "metadata": {},
   "outputs": [
    {
     "data": {
      "text/plain": [
       "array([[8, 0, 9, 2, 6, 3],\n",
       "       [8, 2, 4, 2, 6, 4],\n",
       "       [8, 6, 1, 3, 8, 1],\n",
       "       [9, 8, 9, 4, 1, 3]])"
      ]
     },
     "execution_count": 128,
     "metadata": {},
     "output_type": "execute_result"
    }
   ],
   "source": [
    "x6 = rand3.randint(0,10,(4,6))\n",
    "x6"
   ]
  },
  {
   "cell_type": "code",
   "execution_count": 129,
   "id": "68cee30e",
   "metadata": {},
   "outputs": [
    {
     "data": {
      "text/plain": [
       "array([[8, 0, 1, 2, 1, 1],\n",
       "       [8, 2, 4, 2, 6, 3],\n",
       "       [8, 6, 9, 3, 6, 3],\n",
       "       [9, 8, 9, 4, 8, 4]])"
      ]
     },
     "execution_count": 129,
     "metadata": {},
     "output_type": "execute_result"
    }
   ],
   "source": [
    "np.sort(x6,axis=0)"
   ]
  },
  {
   "cell_type": "code",
   "execution_count": 130,
   "id": "f1c0f2b4",
   "metadata": {},
   "outputs": [
    {
     "data": {
      "text/plain": [
       "array([[0, 2, 3, 6, 8, 9],\n",
       "       [2, 2, 4, 4, 6, 8],\n",
       "       [1, 1, 3, 6, 8, 8],\n",
       "       [1, 3, 4, 8, 9, 9]])"
      ]
     },
     "execution_count": 130,
     "metadata": {},
     "output_type": "execute_result"
    }
   ],
   "source": [
    "np.sort(x6,axis=1)"
   ]
  },
  {
   "cell_type": "code",
   "execution_count": null,
   "id": "55775402",
   "metadata": {},
   "outputs": [],
   "source": []
  }
 ],
 "metadata": {
  "kernelspec": {
   "display_name": "Python 3 (ipykernel)",
   "language": "python",
   "name": "python3"
  },
  "language_info": {
   "codemirror_mode": {
    "name": "ipython",
    "version": 3
   },
   "file_extension": ".py",
   "mimetype": "text/x-python",
   "name": "python",
   "nbconvert_exporter": "python",
   "pygments_lexer": "ipython3",
   "version": "3.9.7"
  }
 },
 "nbformat": 4,
 "nbformat_minor": 5
}
