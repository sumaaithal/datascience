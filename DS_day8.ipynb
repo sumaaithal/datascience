{
 "cells": [
  {
   "cell_type": "code",
   "execution_count": 1,
   "id": "fb4da572",
   "metadata": {},
   "outputs": [],
   "source": [
    "import numpy as np\n",
    "import pandas as pd\n",
    "import matplotlib.pyplot as plt"
   ]
  },
  {
   "cell_type": "code",
   "execution_count": 2,
   "id": "82f6453b",
   "metadata": {},
   "outputs": [],
   "source": [
    "x = np.array([4,1,3,2,7,8,6])"
   ]
  },
  {
   "cell_type": "code",
   "execution_count": 3,
   "id": "2b6353b9",
   "metadata": {},
   "outputs": [
    {
     "data": {
      "text/plain": [
       "array([1, 2, 3, 4, 7, 8, 6])"
      ]
     },
     "execution_count": 3,
     "metadata": {},
     "output_type": "execute_result"
    }
   ],
   "source": [
    "np.partition(x,3)"
   ]
  },
  {
   "cell_type": "code",
   "execution_count": 28,
   "id": "bcaeabd4",
   "metadata": {},
   "outputs": [],
   "source": [
    "name = [\"suneri\",\"suma\",\"chethan\",\"julian\",\"amanda\"]\n",
    "age = [25,26,26,30,28]\n",
    "weight = [69,48,90,80,67]"
   ]
  },
  {
   "cell_type": "code",
   "execution_count": 29,
   "id": "ff0930d8",
   "metadata": {},
   "outputs": [],
   "source": [
    "data = np.zeros(5,dtype={\"names\":(\"name\",\"age\",\"weight\"),\n",
    "                        \"formats\":(\"U10\",\"i4\",\"f8\")})"
   ]
  },
  {
   "cell_type": "code",
   "execution_count": 30,
   "id": "fab341a2",
   "metadata": {},
   "outputs": [],
   "source": [
    "data['name']=name\n",
    "data['age']=age\n",
    "data['weight']=weight"
   ]
  },
  {
   "cell_type": "code",
   "execution_count": 31,
   "id": "764be7ca",
   "metadata": {},
   "outputs": [
    {
     "data": {
      "text/plain": [
       "array([('suneri', 25, 69.), ('suma', 26, 48.), ('chethan', 26, 90.),\n",
       "       ('julian', 30, 80.), ('amanda', 28, 67.)],\n",
       "      dtype=[('name', '<U10'), ('age', '<i4'), ('weight', '<f8')])"
      ]
     },
     "execution_count": 31,
     "metadata": {},
     "output_type": "execute_result"
    }
   ],
   "source": [
    "data"
   ]
  },
  {
   "cell_type": "code",
   "execution_count": 10,
   "id": "5715bcb4",
   "metadata": {},
   "outputs": [
    {
     "data": {
      "text/plain": [
       "('suneri', 25, 69.)"
      ]
     },
     "execution_count": 10,
     "metadata": {},
     "output_type": "execute_result"
    }
   ],
   "source": [
    "data[0]"
   ]
  },
  {
   "cell_type": "code",
   "execution_count": 11,
   "id": "bba9ab12",
   "metadata": {},
   "outputs": [
    {
     "data": {
      "text/plain": [
       "'amanda'"
      ]
     },
     "execution_count": 11,
     "metadata": {},
     "output_type": "execute_result"
    }
   ],
   "source": [
    "data[-1]['name']"
   ]
  },
  {
   "cell_type": "code",
   "execution_count": 14,
   "id": "ed8e6661",
   "metadata": {},
   "outputs": [
    {
     "data": {
      "text/plain": [
       "array(['suneri', 'suma', 'chethan', 'amanda'], dtype='<U10')"
      ]
     },
     "execution_count": 14,
     "metadata": {},
     "output_type": "execute_result"
    }
   ],
   "source": [
    "data[data['age']<30]['name']"
   ]
  },
  {
   "cell_type": "code",
   "execution_count": 15,
   "id": "ad1afd35",
   "metadata": {},
   "outputs": [],
   "source": [
    "data = np.zeros(5,dtype={\"names\":(\"name\",\"age\",\"weight\"),\n",
    "                        \"formats\":((np.str_,10),int,np.float32)})"
   ]
  },
  {
   "cell_type": "code",
   "execution_count": 16,
   "id": "3016469a",
   "metadata": {},
   "outputs": [
    {
     "data": {
      "text/plain": [
       "dtype([('name', 'S10'), ('age', '<i4'), ('weight', '<f8')])"
      ]
     },
     "execution_count": 16,
     "metadata": {},
     "output_type": "execute_result"
    }
   ],
   "source": [
    "np.dtype([('name','S10'),('age','i4'),('weight','f8')])"
   ]
  },
  {
   "cell_type": "code",
   "execution_count": 17,
   "id": "b61dc5f4",
   "metadata": {},
   "outputs": [],
   "source": [
    "tp = np.dtype([('id','i8'),('mat','f8',(3,3))])"
   ]
  },
  {
   "cell_type": "code",
   "execution_count": 18,
   "id": "cf90f725",
   "metadata": {},
   "outputs": [],
   "source": [
    "X = np.zeros(1,dtype=tp)"
   ]
  },
  {
   "cell_type": "code",
   "execution_count": 20,
   "id": "39abb19f",
   "metadata": {},
   "outputs": [
    {
     "data": {
      "text/plain": [
       "(0, [[0., 0., 0.], [0., 0., 0.], [0., 0., 0.]])"
      ]
     },
     "execution_count": 20,
     "metadata": {},
     "output_type": "execute_result"
    }
   ],
   "source": [
    "X[0]"
   ]
  },
  {
   "cell_type": "code",
   "execution_count": 25,
   "id": "0a96c499",
   "metadata": {},
   "outputs": [
    {
     "data": {
      "text/plain": [
       "array([[0., 0., 0.],\n",
       "       [0., 0., 0.],\n",
       "       [0., 0., 0.]])"
      ]
     },
     "execution_count": 25,
     "metadata": {},
     "output_type": "execute_result"
    }
   ],
   "source": [
    "X['mat'][0]"
   ]
  },
  {
   "cell_type": "code",
   "execution_count": 33,
   "id": "24c92719",
   "metadata": {},
   "outputs": [],
   "source": [
    "data_rec = data.view(np.recarray)"
   ]
  },
  {
   "cell_type": "code",
   "execution_count": 34,
   "id": "d6580ff5",
   "metadata": {},
   "outputs": [
    {
     "data": {
      "text/plain": [
       "array([25, 26, 26, 30, 28])"
      ]
     },
     "execution_count": 34,
     "metadata": {},
     "output_type": "execute_result"
    }
   ],
   "source": [
    "data_rec.age"
   ]
  },
  {
   "cell_type": "code",
   "execution_count": 37,
   "id": "20d52f55",
   "metadata": {},
   "outputs": [
    {
     "data": {
      "text/plain": [
       "0    0.25\n",
       "1    0.50\n",
       "2    0.75\n",
       "3    1.00\n",
       "dtype: float64"
      ]
     },
     "execution_count": 37,
     "metadata": {},
     "output_type": "execute_result"
    }
   ],
   "source": [
    "s1 = pd.Series([0.25,0.5,0.75,1])\n",
    "s1"
   ]
  },
  {
   "cell_type": "code",
   "execution_count": 38,
   "id": "4f980bc5",
   "metadata": {},
   "outputs": [
    {
     "data": {
      "text/plain": [
       "RangeIndex(start=0, stop=4, step=1)"
      ]
     },
     "execution_count": 38,
     "metadata": {},
     "output_type": "execute_result"
    }
   ],
   "source": [
    "s1.index"
   ]
  },
  {
   "cell_type": "code",
   "execution_count": 39,
   "id": "f54f8900",
   "metadata": {},
   "outputs": [
    {
     "data": {
      "text/plain": [
       "array([0.25, 0.5 , 0.75, 1.  ])"
      ]
     },
     "execution_count": 39,
     "metadata": {},
     "output_type": "execute_result"
    }
   ],
   "source": [
    "s1.values"
   ]
  },
  {
   "cell_type": "code",
   "execution_count": 40,
   "id": "6b9d6729",
   "metadata": {},
   "outputs": [
    {
     "data": {
      "text/plain": [
       "0.25"
      ]
     },
     "execution_count": 40,
     "metadata": {},
     "output_type": "execute_result"
    }
   ],
   "source": [
    "s1[0]"
   ]
  },
  {
   "cell_type": "code",
   "execution_count": 41,
   "id": "e4fda253",
   "metadata": {},
   "outputs": [
    {
     "data": {
      "text/plain": [
       "1    0.50\n",
       "2    0.75\n",
       "dtype: float64"
      ]
     },
     "execution_count": 41,
     "metadata": {},
     "output_type": "execute_result"
    }
   ],
   "source": [
    "s1[1:3]"
   ]
  },
  {
   "cell_type": "code",
   "execution_count": 43,
   "id": "0b88a5ff",
   "metadata": {},
   "outputs": [
    {
     "name": "stdout",
     "output_type": "stream",
     "text": [
      "a    0.25\n",
      "b    0.50\n",
      "c    0.75\n",
      "d    1.00\n",
      "dtype: float64\n",
      "Index(['a', 'b', 'c', 'd'], dtype='object')\n",
      "[0.25 0.5  0.75 1.  ]\n"
     ]
    }
   ],
   "source": [
    "s2 = pd.Series([0.25,0.5,0.75,1],index=['a','b','c','d'])\n",
    "print(s2)\n",
    "print(s2.index)\n",
    "print(s2.values)"
   ]
  }
 ],
 "metadata": {
  "kernelspec": {
   "display_name": "Python 3 (ipykernel)",
   "language": "python",
   "name": "python3"
  },
  "language_info": {
   "codemirror_mode": {
    "name": "ipython",
    "version": 3
   },
   "file_extension": ".py",
   "mimetype": "text/x-python",
   "name": "python",
   "nbconvert_exporter": "python",
   "pygments_lexer": "ipython3",
   "version": "3.9.7"
  }
 },
 "nbformat": 4,
 "nbformat_minor": 5
}
