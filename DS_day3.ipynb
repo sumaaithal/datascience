{
 "cells": [
  {
   "cell_type": "code",
   "execution_count": 3,
   "id": "f73e96a4",
   "metadata": {},
   "outputs": [],
   "source": [
    "L = list(range(5))"
   ]
  },
  {
   "cell_type": "code",
   "execution_count": 4,
   "id": "3ad6142c",
   "metadata": {},
   "outputs": [
    {
     "data": {
      "text/plain": [
       "[0, 1, 2, 3, 4]"
      ]
     },
     "execution_count": 4,
     "metadata": {},
     "output_type": "execute_result"
    }
   ],
   "source": [
    "L"
   ]
  },
  {
   "cell_type": "code",
   "execution_count": 5,
   "id": "8f1ded81",
   "metadata": {},
   "outputs": [
    {
     "data": {
      "text/plain": [
       "list"
      ]
     },
     "execution_count": 5,
     "metadata": {},
     "output_type": "execute_result"
    }
   ],
   "source": [
    "type(L)"
   ]
  },
  {
   "cell_type": "code",
   "execution_count": 6,
   "id": "fe756638",
   "metadata": {},
   "outputs": [
    {
     "data": {
      "text/plain": [
       "int"
      ]
     },
     "execution_count": 6,
     "metadata": {},
     "output_type": "execute_result"
    }
   ],
   "source": [
    "type(L[0])"
   ]
  },
  {
   "cell_type": "code",
   "execution_count": 7,
   "id": "a703070d",
   "metadata": {},
   "outputs": [],
   "source": [
    "L2 = list(str(range(5)))"
   ]
  },
  {
   "cell_type": "code",
   "execution_count": 8,
   "id": "650402a6",
   "metadata": {},
   "outputs": [
    {
     "data": {
      "text/plain": [
       "list"
      ]
     },
     "execution_count": 8,
     "metadata": {},
     "output_type": "execute_result"
    }
   ],
   "source": [
    "type(L2)"
   ]
  },
  {
   "cell_type": "code",
   "execution_count": 9,
   "id": "37ffc814",
   "metadata": {},
   "outputs": [
    {
     "data": {
      "text/plain": [
       "str"
      ]
     },
     "execution_count": 9,
     "metadata": {},
     "output_type": "execute_result"
    }
   ],
   "source": [
    "type(L2[0])"
   ]
  },
  {
   "cell_type": "code",
   "execution_count": 10,
   "id": "757a4c27",
   "metadata": {},
   "outputs": [],
   "source": [
    "L3 = [True, 3,3.0, \"3.0\"]"
   ]
  },
  {
   "cell_type": "code",
   "execution_count": 11,
   "id": "9cc33464",
   "metadata": {},
   "outputs": [
    {
     "data": {
      "text/plain": [
       "list"
      ]
     },
     "execution_count": 11,
     "metadata": {},
     "output_type": "execute_result"
    }
   ],
   "source": [
    "type(L3)"
   ]
  },
  {
   "cell_type": "code",
   "execution_count": 12,
   "id": "5be77db3",
   "metadata": {},
   "outputs": [],
   "source": [
    "l4 = [type(item) for item in L3]"
   ]
  },
  {
   "cell_type": "code",
   "execution_count": 13,
   "id": "7308c8cd",
   "metadata": {},
   "outputs": [
    {
     "data": {
      "text/plain": [
       "[bool, int, float, str]"
      ]
     },
     "execution_count": 13,
     "metadata": {},
     "output_type": "execute_result"
    }
   ],
   "source": [
    "l4"
   ]
  },
  {
   "cell_type": "code",
   "execution_count": 14,
   "id": "91c6b253",
   "metadata": {},
   "outputs": [],
   "source": [
    "import array"
   ]
  },
  {
   "cell_type": "code",
   "execution_count": 15,
   "id": "6aa35914",
   "metadata": {},
   "outputs": [],
   "source": [
    "L = list(range(10))"
   ]
  },
  {
   "cell_type": "code",
   "execution_count": 16,
   "id": "49555248",
   "metadata": {},
   "outputs": [],
   "source": [
    "L1 = array.array('i',L)"
   ]
  },
  {
   "cell_type": "code",
   "execution_count": 17,
   "id": "b10a85e4",
   "metadata": {},
   "outputs": [
    {
     "data": {
      "text/plain": [
       "array('i', [0, 1, 2, 3, 4, 5, 6, 7, 8, 9])"
      ]
     },
     "execution_count": 17,
     "metadata": {},
     "output_type": "execute_result"
    }
   ],
   "source": [
    "L1"
   ]
  },
  {
   "cell_type": "code",
   "execution_count": 18,
   "id": "a2180ee0",
   "metadata": {},
   "outputs": [],
   "source": [
    "import numpy as np"
   ]
  },
  {
   "cell_type": "code",
   "execution_count": 19,
   "id": "b8975e05",
   "metadata": {},
   "outputs": [],
   "source": [
    "L2 = np.array([1,2,3,4,5])"
   ]
  },
  {
   "cell_type": "code",
   "execution_count": 20,
   "id": "d2df0c3c",
   "metadata": {},
   "outputs": [
    {
     "data": {
      "text/plain": [
       "array([1, 2, 3, 4, 5])"
      ]
     },
     "execution_count": 20,
     "metadata": {},
     "output_type": "execute_result"
    }
   ],
   "source": [
    "L2"
   ]
  },
  {
   "cell_type": "code",
   "execution_count": 21,
   "id": "3e545a8d",
   "metadata": {},
   "outputs": [],
   "source": [
    "L3 = np.array([3.0,2,4.0,7])"
   ]
  },
  {
   "cell_type": "code",
   "execution_count": 22,
   "id": "03c7d24b",
   "metadata": {},
   "outputs": [
    {
     "data": {
      "text/plain": [
       "array([3., 2., 4., 7.])"
      ]
     },
     "execution_count": 22,
     "metadata": {},
     "output_type": "execute_result"
    }
   ],
   "source": [
    "L3"
   ]
  },
  {
   "cell_type": "code",
   "execution_count": 23,
   "id": "eeb5b248",
   "metadata": {},
   "outputs": [],
   "source": [
    "L4 = np.array([4,5,6,7],dtype=\"float32\")"
   ]
  },
  {
   "cell_type": "code",
   "execution_count": 24,
   "id": "32ab5de3",
   "metadata": {},
   "outputs": [
    {
     "data": {
      "text/plain": [
       "array([4., 5., 6., 7.], dtype=float32)"
      ]
     },
     "execution_count": 24,
     "metadata": {},
     "output_type": "execute_result"
    }
   ],
   "source": [
    "L4"
   ]
  },
  {
   "cell_type": "code",
   "execution_count": null,
   "id": "8f097020",
   "metadata": {},
   "outputs": [],
   "source": []
  },
  {
   "cell_type": "code",
   "execution_count": 27,
   "id": "b7fb25b5",
   "metadata": {},
   "outputs": [],
   "source": [
    "L5 = np.array([range(i,i+3) for i in [2,3,4]])"
   ]
  },
  {
   "cell_type": "code",
   "execution_count": 28,
   "id": "3a8c8b23",
   "metadata": {},
   "outputs": [
    {
     "data": {
      "text/plain": [
       "array([[2, 3, 4],\n",
       "       [3, 4, 5],\n",
       "       [4, 5, 6]])"
      ]
     },
     "execution_count": 28,
     "metadata": {},
     "output_type": "execute_result"
    }
   ],
   "source": [
    "L5"
   ]
  },
  {
   "cell_type": "code",
   "execution_count": 29,
   "id": "45f27eef",
   "metadata": {},
   "outputs": [
    {
     "data": {
      "text/plain": [
       "array([0., 0., 0., 0., 0., 0., 0., 0., 0., 0.], dtype=float32)"
      ]
     },
     "execution_count": 29,
     "metadata": {},
     "output_type": "execute_result"
    }
   ],
   "source": [
    "np.zeros((10,),dtype=\"float32\")"
   ]
  },
  {
   "cell_type": "code",
   "execution_count": 30,
   "id": "2f9eaeab",
   "metadata": {},
   "outputs": [
    {
     "data": {
      "text/plain": [
       "array([[1., 1.],\n",
       "       [1., 1.]], dtype=float32)"
      ]
     },
     "execution_count": 30,
     "metadata": {},
     "output_type": "execute_result"
    }
   ],
   "source": [
    "np.ones((2,2),dtype=\"float32\")"
   ]
  },
  {
   "cell_type": "code",
   "execution_count": 31,
   "id": "c5431e29",
   "metadata": {},
   "outputs": [
    {
     "data": {
      "text/plain": [
       "array([[3.1, 3.1],\n",
       "       [3.1, 3.1]])"
      ]
     },
     "execution_count": 31,
     "metadata": {},
     "output_type": "execute_result"
    }
   ],
   "source": [
    "np.full((2,2),fill_value=3.1)"
   ]
  },
  {
   "cell_type": "code",
   "execution_count": 32,
   "id": "8954dea5",
   "metadata": {},
   "outputs": [
    {
     "data": {
      "text/plain": [
       "array([0, 2, 4, 6, 8])"
      ]
     },
     "execution_count": 32,
     "metadata": {},
     "output_type": "execute_result"
    }
   ],
   "source": [
    "np.arange(0,10,2)"
   ]
  },
  {
   "cell_type": "code",
   "execution_count": 33,
   "id": "bbcb8051",
   "metadata": {},
   "outputs": [
    {
     "data": {
      "text/plain": [
       "array([0.  , 0.25, 0.5 , 0.75, 1.  ])"
      ]
     },
     "execution_count": 33,
     "metadata": {},
     "output_type": "execute_result"
    }
   ],
   "source": [
    "np.linspace(0,1,5)"
   ]
  },
  {
   "cell_type": "code",
   "execution_count": 34,
   "id": "f5314612",
   "metadata": {},
   "outputs": [
    {
     "data": {
      "text/plain": [
       "array([[0.76691706, 0.243772  ],\n",
       "       [0.83545162, 0.18507247]])"
      ]
     },
     "execution_count": 34,
     "metadata": {},
     "output_type": "execute_result"
    }
   ],
   "source": [
    "np.random.random((2,2))"
   ]
  },
  {
   "cell_type": "code",
   "execution_count": 35,
   "id": "73040ebb",
   "metadata": {},
   "outputs": [
    {
     "data": {
      "text/plain": [
       "array([[ 0.06307096,  0.68889695,  0.34891097],\n",
       "       [ 0.74744642,  0.93852311, -0.45344713],\n",
       "       [-0.86005332, -0.87015354, -1.02977531]])"
      ]
     },
     "execution_count": 35,
     "metadata": {},
     "output_type": "execute_result"
    }
   ],
   "source": [
    "np.random.normal(0,1,(3,3))"
   ]
  },
  {
   "cell_type": "code",
   "execution_count": 36,
   "id": "b9795366",
   "metadata": {},
   "outputs": [
    {
     "data": {
      "text/plain": [
       "array([[8, 1, 0],\n",
       "       [5, 8, 1],\n",
       "       [2, 0, 5]])"
      ]
     },
     "execution_count": 36,
     "metadata": {},
     "output_type": "execute_result"
    }
   ],
   "source": [
    "np.random.randint(0,10,(3,3))"
   ]
  },
  {
   "cell_type": "code",
   "execution_count": 38,
   "id": "d62db763",
   "metadata": {},
   "outputs": [
    {
     "data": {
      "text/plain": [
       "array([[1., 0., 0., 0., 0.],\n",
       "       [0., 1., 0., 0., 0.],\n",
       "       [0., 0., 1., 0., 0.],\n",
       "       [0., 0., 0., 1., 0.],\n",
       "       [0., 0., 0., 0., 1.]])"
      ]
     },
     "execution_count": 38,
     "metadata": {},
     "output_type": "execute_result"
    }
   ],
   "source": [
    "np.eye(5)"
   ]
  },
  {
   "cell_type": "code",
   "execution_count": 39,
   "id": "e54c39b0",
   "metadata": {},
   "outputs": [
    {
     "data": {
      "text/plain": [
       "array([1.33047156e-311, 0.00000000e+000, 9.13565187e+242])"
      ]
     },
     "execution_count": 39,
     "metadata": {},
     "output_type": "execute_result"
    }
   ],
   "source": [
    "np.empty(3)"
   ]
  },
  {
   "cell_type": "code",
   "execution_count": 40,
   "id": "b3509eae",
   "metadata": {},
   "outputs": [
    {
     "data": {
      "text/plain": [
       "array([0, 0, 0, 0, 0, 0, 0, 0, 0, 0], dtype=int16)"
      ]
     },
     "execution_count": 40,
     "metadata": {},
     "output_type": "execute_result"
    }
   ],
   "source": [
    "np.zeros(10,np.int16)"
   ]
  },
  {
   "cell_type": "code",
   "execution_count": 43,
   "id": "23a7f724",
   "metadata": {},
   "outputs": [
    {
     "data": {
      "text/plain": [
       "array([7, 9, 2, 7, 4, 5])"
      ]
     },
     "execution_count": 43,
     "metadata": {},
     "output_type": "execute_result"
    }
   ],
   "source": [
    "a1 = np.random.randint(10,size=6)\n",
    "a1"
   ]
  },
  {
   "cell_type": "code",
   "execution_count": 47,
   "id": "a1e69d3a",
   "metadata": {},
   "outputs": [
    {
     "data": {
      "text/plain": [
       "array([[9, 1, 7],\n",
       "       [2, 8, 7],\n",
       "       [4, 9, 1]])"
      ]
     },
     "execution_count": 47,
     "metadata": {},
     "output_type": "execute_result"
    }
   ],
   "source": [
    "a2 = np.random.randint(10,size=(3,3))\n",
    "a2"
   ]
  },
  {
   "cell_type": "code",
   "execution_count": 50,
   "id": "14dd97f5",
   "metadata": {},
   "outputs": [
    {
     "data": {
      "text/plain": [
       "array([[[4, 2, 5, 5],\n",
       "        [0, 4, 0, 4],\n",
       "        [8, 9, 9, 3]],\n",
       "\n",
       "       [[7, 7, 1, 1],\n",
       "        [4, 8, 8, 7],\n",
       "        [3, 3, 1, 0]]])"
      ]
     },
     "execution_count": 50,
     "metadata": {},
     "output_type": "execute_result"
    }
   ],
   "source": [
    "a3 = np.random.randint(10,size=(2,3,4))\n",
    "a3"
   ]
  },
  {
   "cell_type": "code",
   "execution_count": 54,
   "id": "e1adef15",
   "metadata": {},
   "outputs": [
    {
     "name": "stdout",
     "output_type": "stream",
     "text": [
      "(6,) (3, 3) (2, 3, 4)\n",
      "1 2 3\n",
      "6 9 24\n"
     ]
    }
   ],
   "source": [
    "print(a1.shape,a2.shape, a3.shape)\n",
    "print(a1.ndim,a2.ndim,a3.ndim)\n",
    "print(a1.size,a2.size,a3.size)"
   ]
  },
  {
   "cell_type": "code",
   "execution_count": 55,
   "id": "af1fd233",
   "metadata": {},
   "outputs": [
    {
     "data": {
      "text/plain": [
       "24"
      ]
     },
     "execution_count": 55,
     "metadata": {},
     "output_type": "execute_result"
    }
   ],
   "source": [
    "a1.itemsize*a1.size"
   ]
  },
  {
   "cell_type": "code",
   "execution_count": 56,
   "id": "404f9f8d",
   "metadata": {},
   "outputs": [
    {
     "data": {
      "text/plain": [
       "24"
      ]
     },
     "execution_count": 56,
     "metadata": {},
     "output_type": "execute_result"
    }
   ],
   "source": [
    "a1.nbytes"
   ]
  },
  {
   "cell_type": "code",
   "execution_count": 58,
   "id": "7a8b71b1",
   "metadata": {},
   "outputs": [
    {
     "data": {
      "text/plain": [
       "(array([7, 9, 2, 7, 4, 5]), 7, 9, 5, 4)"
      ]
     },
     "execution_count": 58,
     "metadata": {},
     "output_type": "execute_result"
    }
   ],
   "source": [
    "a1, a1[0],a1[1],a1[-1],a1[-2]"
   ]
  },
  {
   "cell_type": "code",
   "execution_count": 63,
   "id": "3b3b5c37",
   "metadata": {},
   "outputs": [
    {
     "data": {
      "text/plain": [
       "(array([[9, 1, 7],\n",
       "        [2, 8, 7],\n",
       "        [4, 9, 1]]),\n",
       " 9,\n",
       " 9,\n",
       " 4,\n",
       " 1)"
      ]
     },
     "execution_count": 63,
     "metadata": {},
     "output_type": "execute_result"
    }
   ],
   "source": [
    "a2, a2[0][0],a2[0,0],a2[2][0],a2[2][-1]"
   ]
  },
  {
   "cell_type": "code",
   "execution_count": 64,
   "id": "d49d1713",
   "metadata": {},
   "outputs": [],
   "source": [
    "a2[1,2] = 0"
   ]
  },
  {
   "cell_type": "code",
   "execution_count": 65,
   "id": "0c39cb7b",
   "metadata": {},
   "outputs": [
    {
     "data": {
      "text/plain": [
       "array([[9, 1, 7],\n",
       "       [2, 8, 0],\n",
       "       [4, 9, 1]])"
      ]
     },
     "execution_count": 65,
     "metadata": {},
     "output_type": "execute_result"
    }
   ],
   "source": [
    "a2"
   ]
  },
  {
   "cell_type": "code",
   "execution_count": 66,
   "id": "eddde658",
   "metadata": {},
   "outputs": [],
   "source": [
    "x = np.arange(10)"
   ]
  },
  {
   "cell_type": "code",
   "execution_count": 70,
   "id": "63f7efe5",
   "metadata": {},
   "outputs": [
    {
     "data": {
      "text/plain": [
       "(array([0, 1, 2, 3, 4, 5, 6, 7, 8, 9]),\n",
       " array([5, 6, 7, 8, 9]),\n",
       " array([0, 1, 2, 3, 4]),\n",
       " array([2, 3, 4, 5]))"
      ]
     },
     "execution_count": 70,
     "metadata": {},
     "output_type": "execute_result"
    }
   ],
   "source": [
    "x,x[5:], x[:5],x[2:6]"
   ]
  },
  {
   "cell_type": "code",
   "execution_count": 77,
   "id": "0e923a0e",
   "metadata": {},
   "outputs": [
    {
     "data": {
      "text/plain": [
       "(array([0, 1, 2, 3, 4, 5, 6, 7, 8, 9]),\n",
       " array([0, 2, 4, 6, 8]),\n",
       " array([9, 7, 5, 3, 1]),\n",
       " array([1, 3, 5, 7, 9]),\n",
       " array([9, 8, 7, 6, 5, 4, 3, 2, 1, 0]),\n",
       " array([5, 3, 1]))"
      ]
     },
     "execution_count": 77,
     "metadata": {},
     "output_type": "execute_result"
    }
   ],
   "source": [
    "x,x[::2],x[::-2],x[1::2],x[::-1],x[5::-2]"
   ]
  },
  {
   "cell_type": "code",
   "execution_count": null,
   "id": "f433ff34",
   "metadata": {},
   "outputs": [],
   "source": []
  }
 ],
 "metadata": {
  "kernelspec": {
   "display_name": "Python 3 (ipykernel)",
   "language": "python",
   "name": "python3"
  },
  "language_info": {
   "codemirror_mode": {
    "name": "ipython",
    "version": 3
   },
   "file_extension": ".py",
   "mimetype": "text/x-python",
   "name": "python",
   "nbconvert_exporter": "python",
   "pygments_lexer": "ipython3",
   "version": "3.9.7"
  }
 },
 "nbformat": 4,
 "nbformat_minor": 5
}
